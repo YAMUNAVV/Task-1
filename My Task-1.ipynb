{
 "cells": [
  {
   "cell_type": "markdown",
   "id": "0a88913f",
   "metadata": {},
   "source": [
    "# Registration and Login system using Python, file handling"
   ]
  },
  {
   "cell_type": "code",
   "execution_count": 2,
   "id": "24de9575",
   "metadata": {},
   "outputs": [],
   "source": [
    "def Email_Check(Email):\n",
    " special_char=\"!#$%^&*()-+?_=,<>/\"\n",
    " num=[\"1\",\"2\",\"3\",\"4\",\"5\",\"6\",\"7\",\"8\",\"9\",\"0\"]\n",
    " if (\"@\" in Email) and Email.count(\"@\")==1:\n",
    "   if (\".\" in Email) and Email.count(\".\")==1: \n",
    "      if  Email.index(\".\")-Email.index(\"@\")!=1:\n",
    "         if Email.index(\".\") >Email.index(\"@\"):\n",
    "             if Email.index(\"@\")>1 and Email.count(\" \")==0 :\n",
    "                 if Email[0] not in num and  Email[0] not in special_char and Email[len(Email)-1]!=\".\":\n",
    "                    return 1"
   ]
  },
  {
   "cell_type": "code",
   "execution_count": 4,
   "id": "d16fe488",
   "metadata": {},
   "outputs": [
    {
     "ename": "IndentationError",
     "evalue": "unindent does not match any outer indentation level (<tokenize>, line 3)",
     "output_type": "error",
     "traceback": [
      "\u001b[1;36m  File \u001b[1;32m<tokenize>:3\u001b[1;36m\u001b[0m\n\u001b[1;33m    else:\u001b[0m\n\u001b[1;37m    ^\u001b[0m\n\u001b[1;31mIndentationError\u001b[0m\u001b[1;31m:\u001b[0m unindent does not match any outer indentation level\n"
     ]
    }
   ],
   "source": [
    "else:print(\"Email_Id should not start with special characters and numbers and ending should not be \\\".\")\n",
    "\n",
    "    else:print(\"Email_Id should not Start with \\\"@\\\" and should have no Space in it\")\n",
    "    \n",
    "        else:print(\" Email should have \\\"@\\\" and followed by \\\".\\\" \")\n",
    "      \n",
    "            else:print(\"Email should not have . immediate next to \\\"@\\\"\")\n",
    "   \n",
    "                else:print(\"Email should have \\\"@\\\" and followed by \\\".\\\"\")\n",
    "                    else:print(\"Email Id should have \\\"@\\\" before Domine \")"
   ]
  },
  {
   "cell_type": "code",
   "execution_count": 11,
   "id": "cf17f24c",
   "metadata": {},
   "outputs": [],
   "source": [
    "def Password_Check(Password):\n",
    " special_char=\"!#$%^&*()-+?_=,<>/@.\"\n",
    " num=[\"1\",\"2\",\"3\",\"4\",\"5\",\"6\",\"7\",\"8\",\"9\",\"0\"]\n",
    " d=[i for i in Password if i in num]\n",
    " sp=[j for j in Password if j in special_char]\n",
    " lc=[k for k in Password if k.islower()==True]\n",
    " uc=[l for l in Password if l.isupper()==True]\n",
    " if len(d)>0 and len(sp)>0 and len(lc)>0 and len(uc)>0 and len(Password)>5 and len(Password)<16:\n",
    "    return 1"
   ]
  },
  {
   "cell_type": "code",
   "execution_count": 12,
   "id": "047fcc36",
   "metadata": {},
   "outputs": [
    {
     "ename": "SyntaxError",
     "evalue": "invalid syntax (3164701486.py, line 1)",
     "output_type": "error",
     "traceback": [
      "\u001b[1;36m  Input \u001b[1;32mIn [12]\u001b[1;36m\u001b[0m\n\u001b[1;33m    else:\u001b[0m\n\u001b[1;37m    ^\u001b[0m\n\u001b[1;31mSyntaxError\u001b[0m\u001b[1;31m:\u001b[0m invalid syntax\n"
     ]
    }
   ],
   "source": [
    "else:\n",
    "    print(\"Invalid Password\") "
   ]
  },
  {
   "cell_type": "code",
   "execution_count": 7,
   "id": "87f73c04",
   "metadata": {},
   "outputs": [],
   "source": []
  },
  {
   "cell_type": "code",
   "execution_count": null,
   "id": "673cf062",
   "metadata": {},
   "outputs": [],
   "source": []
  }
 ],
 "metadata": {
  "kernelspec": {
   "display_name": "Python 3 (ipykernel)",
   "language": "python",
   "name": "python3"
  },
  "language_info": {
   "codemirror_mode": {
    "name": "ipython",
    "version": 3
   },
   "file_extension": ".py",
   "mimetype": "text/x-python",
   "name": "python",
   "nbconvert_exporter": "python",
   "pygments_lexer": "ipython3",
   "version": "3.9.12"
  }
 },
 "nbformat": 4,
 "nbformat_minor": 5
}
